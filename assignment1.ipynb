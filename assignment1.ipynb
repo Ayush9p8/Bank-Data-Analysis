{
 "cells": [
  {
   "cell_type": "code",
   "execution_count": null,
   "metadata": {},
   "outputs": [],
   "source": []
  },
  {
   "cell_type": "code",
   "execution_count": 1,
   "metadata": {},
   "outputs": [
    {
     "name": "stdout",
     "output_type": "stream",
     "text": [
      "kehsihba\n"
     ]
    }
   ],
   "source": [
    "str = \"abhishek\"\n",
    "revstr = str[::-1]\n",
    "print(revstr)\n"
   ]
  },
  {
   "cell_type": "code",
   "execution_count": 3,
   "metadata": {},
   "outputs": [
    {
     "name": "stdout",
     "output_type": "stream",
     "text": [
      "8\n"
     ]
    }
   ],
   "source": [
    "word = \"hagimaru gandu hai\"\n",
    "C=0\n",
    "for i in word:\n",
    "    if(i=='a' or i=='e' or i=='i' or i=='o' or i=='u' or i=='A' or i=='E' or i=='I' or i=='O' or i=='U'):\n",
    "        C=C+1\n",
    "print(C)\n",
    "\n"
   ]
  },
  {
   "cell_type": "code",
   "execution_count": 12,
   "metadata": {},
   "outputs": [
    {
     "name": "stdout",
     "output_type": "stream",
     "text": [
      "true\n"
     ]
    }
   ],
   "source": [
    "str = \"Mom\"\n",
    "str=str.lower()\n",
    "revstr = str[::-1]\n",
    "\n",
    "if str == revstr:\n",
    "    print(\"true\")\n",
    "else:\n",
    "    print(\"false\")\n"
   ]
  },
  {
   "cell_type": "code",
   "execution_count": 14,
   "metadata": {},
   "outputs": [
    {
     "name": "stdout",
     "output_type": "stream",
     "text": [
      "not anagram\n"
     ]
    }
   ],
   "source": [
    "def anagram(a,b):\n",
    "    if(sorted(a)== sorted(b)):\n",
    "        print(\"anagram\")\n",
    "    else:\n",
    "        print(\"not anagram\")\n",
    "\n",
    "a=\"mnhit\"\n",
    "b=\"mthip\"\n",
    "anagram(a,b)\n"
   ]
  },
  {
   "cell_type": "code",
   "execution_count": 17,
   "metadata": {},
   "outputs": [
    {
     "name": "stdout",
     "output_type": "stream",
     "text": [
      "0\n"
     ]
    }
   ],
   "source": [
    "a=\"chiken\"\n",
    "b=\"achimachi\"\n",
    "if a in b:\n",
    "    print(1)\n",
    "else:\n",
    "    print(0)"
   ]
  },
  {
   "cell_type": "code",
   "execution_count": 12,
   "metadata": {},
   "outputs": [
    {
     "name": "stdout",
     "output_type": "stream",
     "text": [
      "23\n"
     ]
    }
   ],
   "source": [
    "#count special character \n",
    "str=\"Terimaaka@bolh#pan@N!&*\"\n",
    "special =\"! @ #$ % ^ &* ( ) < > ? ~\"\n",
    "li=list(special.split(\" \"))\n",
    "b=0\n",
    "for li in str:\n",
    "    b=b+1\n",
    "print(b)\n",
    "\n"
   ]
  }
 ],
 "metadata": {
  "kernelspec": {
   "display_name": "Python 3",
   "language": "python",
   "name": "python3"
  },
  "language_info": {
   "codemirror_mode": {
    "name": "ipython",
    "version": 3
   },
   "file_extension": ".py",
   "mimetype": "text/x-python",
   "name": "python",
   "nbconvert_exporter": "python",
   "pygments_lexer": "ipython3",
   "version": "3.11.9"
  }
 },
 "nbformat": 4,
 "nbformat_minor": 2
}
